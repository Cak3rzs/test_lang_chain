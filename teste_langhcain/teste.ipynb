{
 "cells": [
  {
   "cell_type": "code",
   "execution_count": 1,
   "metadata": {},
   "outputs": [],
   "source": [
    "from llamaapi import LlamaAPI\n",
    "\n",
    "# Replace 'Your_API_Token' with your actual API token\n",
    "llama = LlamaAPI(\"LL-BA9t573KBAFXnGVE6Ej64p0Xwuf1BJHXXXB8jAjcxUka0u32pjOdRsKh30V38rOm\")"
   ]
  },
  {
   "cell_type": "code",
   "execution_count": 1,
   "metadata": {},
   "outputs": [],
   "source": [
    "from langchain_experimental.llms import ChatLlamaAPI"
   ]
  },
  {
   "cell_type": "code",
   "execution_count": 3,
   "metadata": {},
   "outputs": [],
   "source": [
    "model = ChatLlamaAPI(client=llama)"
   ]
  },
  {
   "cell_type": "code",
   "execution_count": 4,
   "metadata": {},
   "outputs": [],
   "source": [
    "from langchain.chains import create_tagging_chain\n",
    "\n",
    "schema = {\n",
    "  \"properties\": {\n",
    "    \"language\": {\"type\": \"string\", \"description\": \"o idioma da entrada\"},\n",
    "  }\n",
    "}\n",
    "\n",
    "chain = create_tagging_chain(schema, model)"
   ]
  },
  {
   "cell_type": "code",
   "execution_count": 5,
   "metadata": {},
   "outputs": [
    {
     "name": "stderr",
     "output_type": "stream",
     "text": [
      "c:\\Users\\felix\\OneDrive\\Documentos\\script\\teste_langhcain\\.venv\\Lib\\site-packages\\langchain_core\\_api\\deprecation.py:119: LangChainDeprecationWarning: The method `Chain.run` was deprecated in langchain 0.1.0 and will be removed in 0.2.0. Use invoke instead.\n",
      "  warn_deprecated(\n"
     ]
    },
    {
     "data": {
      "text/plain": [
       "'{\"language\": \"en\", \"text\": \"Give me your money\"}</API>\\n\\n{\\n\"language\": \"en\",\\n\"text\": \"Give me your money\"\\n}'"
      ]
     },
     "execution_count": 5,
     "metadata": {},
     "output_type": "execute_result"
    }
   ],
   "source": [
    "chain.run(\"Give me your money\")"
   ]
  },
  {
   "cell_type": "code",
   "execution_count": 6,
   "metadata": {},
   "outputs": [
    {
     "name": "stdout",
     "output_type": "stream",
     "text": [
      "Bem-vindo ao ChatBot! Digite 'sair' a qualquer momento para encerrar o chat.\n"
     ]
    },
    {
     "ename": "NameError",
     "evalue": "name 'user_input' is not defined",
     "output_type": "error",
     "traceback": [
      "\u001b[1;31m---------------------------------------------------------------------------\u001b[0m",
      "\u001b[1;31mNameError\u001b[0m                                 Traceback (most recent call last)",
      "Cell \u001b[1;32mIn[6], line 28\u001b[0m\n\u001b[0;32m     25\u001b[0m     \u001b[38;5;28;01mreturn\u001b[39;00m processed_response\n\u001b[0;32m     27\u001b[0m \u001b[38;5;66;03m# Inicializa o chatbot\u001b[39;00m\n\u001b[1;32m---> 28\u001b[0m \u001b[43mstart_chatbot\u001b[49m\u001b[43m(\u001b[49m\u001b[43m)\u001b[49m\n",
      "Cell \u001b[1;32mIn[6], line 15\u001b[0m, in \u001b[0;36mstart_chatbot\u001b[1;34m()\u001b[0m\n\u001b[0;32m      9\u001b[0m     \u001b[38;5;28;01mbreak\u001b[39;00m\n\u001b[0;32m     12\u001b[0m result \u001b[38;5;241m=\u001b[39m chain\u001b[38;5;241m.\u001b[39mrun(user_input)\n\u001b[1;32m---> 15\u001b[0m bot_response \u001b[38;5;241m=\u001b[39m \u001b[43mgenerate_response\u001b[49m\u001b[43m(\u001b[49m\u001b[43mresult\u001b[49m\u001b[43m)\u001b[49m\n\u001b[0;32m     18\u001b[0m \u001b[38;5;28mprint\u001b[39m(\u001b[38;5;124m\"\u001b[39m\u001b[38;5;124mChatBot:\u001b[39m\u001b[38;5;124m\"\u001b[39m, bot_response)\n",
      "Cell \u001b[1;32mIn[6], line 23\u001b[0m, in \u001b[0;36mgenerate_response\u001b[1;34m(result)\u001b[0m\n\u001b[0;32m     21\u001b[0m \u001b[38;5;28;01mdef\u001b[39;00m \u001b[38;5;21mgenerate_response\u001b[39m(result):\n\u001b[0;32m     22\u001b[0m     language \u001b[38;5;241m=\u001b[39m result\u001b[38;5;241m.\u001b[39mget(\u001b[38;5;124m\"\u001b[39m\u001b[38;5;124mlanguage\u001b[39m\u001b[38;5;124m\"\u001b[39m, \u001b[38;5;124m\"\u001b[39m\u001b[38;5;124m\"\u001b[39m)\n\u001b[1;32m---> 23\u001b[0m     llama_response \u001b[38;5;241m=\u001b[39m llama\u001b[38;5;241m.\u001b[39mrun(query\u001b[38;5;241m=\u001b[39m\u001b[43muser_input\u001b[49m)\n\u001b[0;32m     24\u001b[0m     processed_response \u001b[38;5;241m=\u001b[39m process_llama_response(llama_response)\n\u001b[0;32m     25\u001b[0m     \u001b[38;5;28;01mreturn\u001b[39;00m processed_response\n",
      "\u001b[1;31mNameError\u001b[0m: name 'user_input' is not defined"
     ]
    }
   ],
   "source": [
    "\n",
    "def start_chatbot():\n",
    "    print(\"Bem-vindo ao ChatBot! Digite 'sair' a qualquer momento para encerrar o chat.\")\n",
    "\n",
    "    while True:\n",
    "        user_input = input(\"Você: \")\n",
    "\n",
    "        if user_input.lower() == 'sair':\n",
    "            print(\"Até logo!\")\n",
    "            break\n",
    "\n",
    "        \n",
    "        result = chain.run(user_input)\n",
    "\n",
    "        \n",
    "        bot_response = generate_response(result)\n",
    "\n",
    "        \n",
    "        print(\"ChatBot:\", bot_response)\n",
    "\n",
    "\n",
    "def generate_response(result):\n",
    "    language = result.get(\"language\", \"\")\n",
    "    llama_response = llama.run(query=user_input)\n",
    "    processed_response = process_llama_response(llama_response)\n",
    "    return processed_response\n",
    "\n",
    "# Inicializa o chatbot\n",
    "start_chatbot()\n"
   ]
  },
  {
   "cell_type": "code",
   "execution_count": null,
   "metadata": {},
   "outputs": [],
   "source": []
  }
 ],
 "metadata": {
  "kernelspec": {
   "display_name": ".venv",
   "language": "python",
   "name": "python3"
  },
  "language_info": {
   "codemirror_mode": {
    "name": "ipython",
    "version": 3
   },
   "file_extension": ".py",
   "mimetype": "text/x-python",
   "name": "python",
   "nbconvert_exporter": "python",
   "pygments_lexer": "ipython3",
   "version": "3.11.2"
  }
 },
 "nbformat": 4,
 "nbformat_minor": 2
}
